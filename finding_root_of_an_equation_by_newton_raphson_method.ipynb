{
  "nbformat": 4,
  "nbformat_minor": 0,
  "metadata": {
    "colab": {
      "name": "finding root of an equation by newton raphson method.ipynb",
      "provenance": [],
      "authorship_tag": "ABX9TyOSGJh82RQTwFen8qpw4kkY",
      "include_colab_link": true
    },
    "kernelspec": {
      "name": "python3",
      "display_name": "Python 3"
    },
    "language_info": {
      "name": "python"
    }
  },
  "cells": [
    {
      "cell_type": "markdown",
      "metadata": {
        "id": "view-in-github",
        "colab_type": "text"
      },
      "source": [
        "<a href=\"https://colab.research.google.com/github/aashnijoshi/Calculating-Root-by-Newton-Raphson-Method/blob/main/finding_root_of_an_equation_by_newton_raphson_method.ipynb\" target=\"_parent\"><img src=\"https://colab.research.google.com/assets/colab-badge.svg\" alt=\"Open In Colab\"/></a>"
      ]
    },
    {
      "cell_type": "code",
      "execution_count": 7,
      "metadata": {
        "colab": {
          "base_uri": "https://localhost:8080/"
        },
        "id": "BZTi-2PA2wIp",
        "outputId": "189e6727-cefb-45ef-e511-6fc19a9592bb"
      },
      "outputs": [
        {
          "output_type": "stream",
          "name": "stdout",
          "text": [
            "The value of the root is :  -1.000000000000011\n"
          ]
        }
      ],
      "source": [
        "# Python3 code for implementation of Newton\n",
        "# Raphson Method for solving equations\n",
        "\n",
        "# An example function whose solution\n",
        "# is determined using Bisection Method.\n",
        "# The function is x^3 - x^2 + 2\n",
        "def func( x ):\n",
        "\treturn x * x * x - x * x + 2\n",
        "\n",
        "# Derivative of the above function\n",
        "# which is 3*x^x - 2*x\n",
        "def derivFunc( x ):\n",
        "\treturn 3 * x * x - 2 * x\n",
        "\n",
        "# Function to find the root\n",
        "def newtonRaphson( x ):\n",
        "\th = func(x) / derivFunc(x)\n",
        "\twhile abs(h) >= 0.0001:\n",
        "\t\th = func(x)/derivFunc(x)\n",
        "\t\t\n",
        "\t\t# x(i+1) = x(i) - f(x) / f'(x)\n",
        "\t\tx = x - h\n",
        "\t\n",
        "\tprint(\"The value of the root is : \",x)\n",
        "\n",
        "# Driver program to test above\n",
        "x0 = -20 # Initial values assumed\n",
        "newtonRaphson(x0)\n",
        "\n"
      ]
    }
  ]
}