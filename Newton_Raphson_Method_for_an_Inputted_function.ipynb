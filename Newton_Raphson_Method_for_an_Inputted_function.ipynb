{
  "nbformat": 4,
  "nbformat_minor": 0,
  "metadata": {
    "colab": {
      "name": "Newton Raphson Method for an inputted function.ipynb",
      "provenance": [],
      "collapsed_sections": [],
      "authorship_tag": "ABX9TyP7wGujXTr25Y+/+oSPjNg4",
      "include_colab_link": true
    },
    "kernelspec": {
      "name": "python3",
      "display_name": "Python 3"
    },
    "language_info": {
      "name": "python"
    }
  },
  "cells": [
    {
      "cell_type": "markdown",
      "metadata": {
        "id": "view-in-github",
        "colab_type": "text"
      },
      "source": [
        "<a href=\"https://colab.research.google.com/github/aashnijoshi/Calculating-Root-by-Newton-Raphson-Method/blob/main/Newton_Raphson_Method_for_an_Inputted_function.ipynb\" target=\"_parent\"><img src=\"https://colab.research.google.com/assets/colab-badge.svg\" alt=\"Open In Colab\"/></a>"
      ]
    },
    {
      "cell_type": "code",
      "execution_count": 2,
      "metadata": {
        "colab": {
          "base_uri": "https://localhost:8080/"
        },
        "id": "7hcwSFif8EEa",
        "outputId": "d916a679-7e8e-4581-8ea8-0d100e0a7f45"
      },
      "outputs": [
        {
          "output_type": "stream",
          "name": "stdout",
          "text": [
            "Please enter the function \n",
            "x*x*x+1\n",
            "The root was found to be  -1.0\n"
          ]
        }
      ],
      "source": [
        "#Newton Raphson Method for an inputted function \n",
        "\n",
        "\n",
        "from sympy import *\n",
        "import time \n",
        "\n",
        "#Inputting a function from the user\n",
        "print(\"Please enter the function \")\n",
        "funcc=input()\n",
        "\n",
        "#Evaluating the function\n",
        "def f(x):\n",
        "    return eval(funcc)\n",
        "     \n",
        "#Defining a function that returns the derivative of the function    \n",
        "def derivf(x):\n",
        "     h=0.00000000001\n",
        "     return (f(x+h)-f(x))/h\n",
        "    \n",
        "\n",
        "#Setting the guess value as 2\n",
        "x=2\n",
        "\n",
        "for i in range (1,1000):              #Letting the program run for not more than 1000 times \n",
        "        xnew=x-f(x)/derivf(x)         #Newton Raphson formula\n",
        "        x=xnew\n",
        "\n",
        "#Printing the root        \n",
        "print(\"The root was found to be \",x)  \n",
        "\n",
        "\n",
        "    \n",
        " "
      ]
    }
  ]
}